{
  "nbformat": 4,
  "nbformat_minor": 0,
  "metadata": {
    "colab": {
      "provenance": []
    },
    "kernelspec": {
      "name": "python3",
      "display_name": "Python 3"
    },
    "language_info": {
      "name": "python"
    }
  },
  "cells": [
    {
      "cell_type": "code",
      "execution_count": 16,
      "metadata": {
        "colab": {
          "base_uri": "https://localhost:8080/"
        },
        "id": "78-YVttyOaU8",
        "outputId": "a3dc0f40-d408-4d37-9643-0b09009e6c1f"
      },
      "outputs": [
        {
          "output_type": "stream",
          "name": "stdout",
          "text": [
            "上辺：10cm\n",
            "下辺：20cm\n",
            "高さ：5cm\n",
            "\n",
            "公式：台形の面積 = (上辺＋下辺) × 高さ ÷ 2 = 75.0cm²\n"
          ]
        }
      ],
      "source": [
        "top_side = 10\n",
        "print(f\"上辺：{top_side}cm\")\n",
        "bottom_side = 20\n",
        "print(f\"下辺：{bottom_side}cm\")\n",
        "height = 5\n",
        "print(f\"高さ：{height}cm\")\n",
        "trapezoid_area =( top_side + bottom_side ) * height / 2\n",
        "print(\"\")\n",
        "print(f\"公式：台形の面積 = (上辺＋下辺) × 高さ ÷ 2 = {trapezoid_area}cm²\")\n"
      ]
    }
  ]
}