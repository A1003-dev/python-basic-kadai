{
  "nbformat": 4,
  "nbformat_minor": 0,
  "metadata": {
    "colab": {
      "provenance": []
    },
    "kernelspec": {
      "name": "python3",
      "display_name": "Python 3"
    },
    "language_info": {
      "name": "python"
    }
  },
  "cells": [
    {
      "cell_type": "code",
      "execution_count": 2,
      "metadata": {
        "colab": {
          "base_uri": "https://localhost:8080/"
        },
        "id": "PB47r4VL9AIB",
        "outputId": "133af209-3027-4096-f526-0e24c380a264"
      },
      "outputs": [
        {
          "output_type": "stream",
          "name": "stdout",
          "text": [
            "777344\n"
          ]
        }
      ],
      "source": [
        "import random\n",
        "\n",
        "var = random.randint(0, 10**6)\n",
        "\n",
        "# print(var)\n",
        "var3 = var % 3\n",
        "# print(var3)\n",
        "var5 = var % 5\n",
        "# print(var5)\n",
        "\n",
        "if var3 == 0 and var5 == 0:\n",
        "  print(\"FizzBuzz\")\n",
        "\n",
        "elif var3 == 0:\n",
        "  print(\"Fizz\")\n",
        "\n",
        "elif var5 == 0:\n",
        "  print(\"Buzz\")\n",
        "\n",
        "else:\n",
        "  print(var)\n"
      ]
    }
  ]
}